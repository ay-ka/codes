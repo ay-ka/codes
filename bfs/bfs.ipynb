{
 "cells": [
  {
   "cell_type": "code",
   "execution_count": 75,
   "metadata": {},
   "outputs": [],
   "source": [
    "import numpy as np\n",
    "import matplotlib.pyplot as plt\n",
    "import scipy\n",
    "import sklearn\n",
    "import pandas as pd"
   ]
  },
  {
   "cell_type": "code",
   "execution_count": 76,
   "metadata": {},
   "outputs": [],
   "source": [
    "graph_dictionary={}\n",
    "with open(\"bfs.txt\") as text_file:\n",
    "    for every_line in text_file:\n",
    "        text=every_line.strip()\n",
    "        textNumber_list=text.split()\n",
    "        everyLine_list=[int(elements) for elements in textNumber_list]\n",
    "        keys=list(graph_dictionary.keys())\n",
    "        if everyLine_list[0] not in keys:\n",
    "            graph_dictionary[everyLine_list[0]]={everyLine_list[1]}\n",
    "        else:\n",
    "            graph_dictionary[everyLine_list[0]].add(everyLine_list[1])\n",
    "        if everyLine_list[1] not in keys:\n",
    "            graph_dictionary[everyLine_list[1]]={everyLine_list[0]}\n",
    "        else:\n",
    "            graph_dictionary[everyLine_list[1]].add(everyLine_list[0])"
   ]
  },
  {
   "cell_type": "code",
   "execution_count": 77,
   "metadata": {},
   "outputs": [
    {
     "data": {
      "text/plain": [
       "{1: {2, 3, 5, 9},\n",
       " 2: {1, 4, 5},\n",
       " 3: {1, 4, 9},\n",
       " 9: {1, 3},\n",
       " 4: {2, 3, 10},\n",
       " 5: {1, 2, 6},\n",
       " 6: {5, 7},\n",
       " 7: {6, 8},\n",
       " 8: {7, 10},\n",
       " 10: {4, 8}}"
      ]
     },
     "execution_count": 77,
     "metadata": {},
     "output_type": "execute_result"
    }
   ],
   "source": [
    "graph_dictionary"
   ]
  },
  {
   "cell_type": "code",
   "execution_count": 82,
   "metadata": {},
   "outputs": [],
   "source": [
    "def bfs(state,end):\n",
    "    queue=[]\n",
    "    visited=[]\n",
    "    queue.append(state)\n",
    "    while len(queue)!=0:\n",
    "        node=queue.pop(0)\n",
    "        visited.append(node)\n",
    "        print(visited)\n",
    "        if node==end:\n",
    "            break\n",
    "        adjacenty=list(graph_dictionary[node].copy())\n",
    "        adjacenty=check_visited(adjacenty,visited)\n",
    "        last_adjacenty=check_queue(adjacenty,queue)\n",
    "        last_adjacenty.sort()\n",
    "        queue.extend(last_adjacenty)\n",
    "    return visited"
   ]
  },
  {
   "cell_type": "code",
   "execution_count": 83,
   "metadata": {},
   "outputs": [],
   "source": [
    "def check_visited(adjacenty,visited):\n",
    "    remove_list=[]\n",
    "    for number in adjacenty:\n",
    "        lst=visited\n",
    "        if lst.count(number)!=0:\n",
    "            remove_list.append(number)\n",
    "    adjacenty=list(set(adjacenty)-set(remove_list))\n",
    "    return adjacenty"
   ]
  },
  {
   "cell_type": "code",
   "execution_count": 84,
   "metadata": {},
   "outputs": [],
   "source": [
    "def check_queue(adjacenty,queue):\n",
    "    remove_list=[]\n",
    "    for number in adjacenty:\n",
    "        lst=queue\n",
    "        if lst.count(number)!=0:\n",
    "            remove_list.append(number)\n",
    "    adjacenty=list(set(adjacenty)-set(remove_list))\n",
    "    return adjacenty"
   ]
  },
  {
   "cell_type": "code",
   "execution_count": 85,
   "metadata": {},
   "outputs": [
    {
     "name": "stdout",
     "output_type": "stream",
     "text": [
      "input state:10\n",
      "end node:1\n",
      "[10]\n",
      "[10, 4]\n",
      "[10, 4, 8]\n",
      "[10, 4, 8, 2]\n",
      "[10, 4, 8, 2, 3]\n",
      "[10, 4, 8, 2, 3, 7]\n",
      "[10, 4, 8, 2, 3, 7, 1]\n"
     ]
    }
   ],
   "source": [
    "state=int(input(\"input state:\"))\n",
    "end=int(input(\"end node:\"))\n",
    "path=bfs(state,end)"
   ]
  },
  {
   "cell_type": "code",
   "execution_count": 86,
   "metadata": {},
   "outputs": [
    {
     "name": "stdout",
     "output_type": "stream",
     "text": [
      "path visited from 10 to 1 is [10, 4, 8, 2, 3, 7, 1]\n"
     ]
    }
   ],
   "source": [
    "print(\"path visited from {0} to {1} is {2}\".format(state,end,path))"
   ]
  }
 ],
 "metadata": {
  "kernelspec": {
   "display_name": "Python 3",
   "language": "python",
   "name": "python3"
  },
  "language_info": {
   "codemirror_mode": {
    "name": "ipython",
    "version": 3
   },
   "file_extension": ".py",
   "mimetype": "text/x-python",
   "name": "python",
   "nbconvert_exporter": "python",
   "pygments_lexer": "ipython3",
   "version": "3.7.6"
  }
 },
 "nbformat": 4,
 "nbformat_minor": 4
}
